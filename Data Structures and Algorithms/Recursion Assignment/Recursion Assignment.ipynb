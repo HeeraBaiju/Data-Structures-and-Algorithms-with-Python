{
 "cells": [
  {
   "cell_type": "code",
   "execution_count": 1,
   "id": "7f4d2018",
   "metadata": {},
   "outputs": [
    {
     "name": "stdout",
     "output_type": "stream",
     "text": [
      "4\n",
      "1.93750\n"
     ]
    }
   ],
   "source": [
    "def geo_sum(k):\n",
    "    if k==0 :\n",
    "        return 1\n",
    "    return (1/(2**k)) + (geo_sum(k-1))\n",
    "\n",
    "k = int(input())\n",
    "print(\"{:.5f}\".format(geo_sum(k)))"
   ]
  },
  {
   "cell_type": "code",
   "execution_count": 2,
   "id": "61bcdd40",
   "metadata": {},
   "outputs": [
    {
     "name": "stdout",
     "output_type": "stream",
     "text": [
      "ninja\n",
      "false\n"
     ]
    }
   ],
   "source": [
    "def palindrome(s, start, end):\n",
    "    if start>=end:\n",
    "        return \"true\"\n",
    "    \n",
    "    if s[start]==s[end] :\n",
    "        return palindrome(s, start+1, end-1)\n",
    "    else:\n",
    "        return \"false\"\n",
    "    \n",
    "s = input()\n",
    "start = 0\n",
    "end = len(s)-1\n",
    "print(palindrome(s, start, end))"
   ]
  },
  {
   "cell_type": "code",
   "execution_count": 3,
   "id": "3ddb3dde",
   "metadata": {},
   "outputs": [
    {
     "name": "stdout",
     "output_type": "stream",
     "text": [
      "12345\n",
      "15\n"
     ]
    }
   ],
   "source": [
    "#Sum of digits (recursive)\n",
    "\n",
    "\n",
    "def sum_digit(n):\n",
    "    if n==0 :\n",
    "        return 0\n",
    "    \n",
    "    return n%10 + sum_digit(n//10)\n",
    "\n",
    "n = int(input())\n",
    "print(sum_digit(n))"
   ]
  },
  {
   "cell_type": "code",
   "execution_count": 4,
   "id": "17b34f53",
   "metadata": {},
   "outputs": [
    {
     "name": "stdout",
     "output_type": "stream",
     "text": [
      "4\n",
      "3\n",
      "12\n"
     ]
    }
   ],
   "source": [
    "#Multiplication\n",
    "\n",
    "def multiply(m,n):\n",
    "    \n",
    "    if m<n:\n",
    "        return multiply(n,m)\n",
    "    \n",
    "    if n!=0 :\n",
    "        return m + multiply(m, n-1)\n",
    "    \n",
    "    else:\n",
    "        return 0\n",
    "\n",
    "m = int(input())\n",
    "n = int(input())\n",
    "print(multiply(m,n))"
   ]
  },
  {
   "cell_type": "code",
   "execution_count": 5,
   "id": "1aed759d",
   "metadata": {},
   "outputs": [
    {
     "name": "stdout",
     "output_type": "stream",
     "text": [
      "00010240\n",
      "2\n"
     ]
    }
   ],
   "source": [
    "#Count Zeroes\n",
    "\n",
    "def zero(n):\n",
    "    if n==0 :\n",
    "        return 0\n",
    "    \n",
    "    if n%10 == 0:\n",
    "        return 1 + zero(n//10)\n",
    "    else:\n",
    "        return zero(n//10)\n",
    "\n",
    "n = int(input())\n",
    "if n==0 :\n",
    "    print('1')\n",
    "else:\n",
    "\tprint(zero(n))"
   ]
  },
  {
   "cell_type": "code",
   "execution_count": 6,
   "id": "28508a27",
   "metadata": {},
   "outputs": [
    {
     "name": "stdout",
     "output_type": "stream",
     "text": [
      "000120235\n",
      "120235\n"
     ]
    }
   ],
   "source": [
    "#String to Integer\n",
    "\n",
    "\n",
    "def s_to_i(string, num):\n",
    "    if len(string)==0 :\n",
    "        return num\n",
    "    \n",
    "    return s_to_i(string[1:], num*10 + ord(string[0])-48)\n",
    "    \n",
    "string = input()\n",
    "num = 0\n",
    "print(s_to_i(string, num))"
   ]
  },
  {
   "cell_type": "code",
   "execution_count": 7,
   "id": "8414a326",
   "metadata": {},
   "outputs": [
    {
     "name": "stdout",
     "output_type": "stream",
     "text": [
      "he*llo\n",
      "he*l*lo\n"
     ]
    }
   ],
   "source": [
    "#PairStar\n",
    "\n",
    "def pairStar(s):\n",
    "    if len(s)<=1:\n",
    "        return s\n",
    "    \n",
    "    if s[0]==s[1] :\n",
    "        return s[0] + '*' + pairStar(s[1:])\n",
    "    else:\n",
    "        return s[0] + pairStar(s[1:])\n",
    "\n",
    "s = input()\n",
    "print(pairStar(s))"
   ]
  },
  {
   "cell_type": "code",
   "execution_count": 8,
   "id": "faeb62fb",
   "metadata": {},
   "outputs": [
    {
     "name": "stdout",
     "output_type": "stream",
     "text": [
      "abababa\n",
      "false\n"
     ]
    }
   ],
   "source": [
    "#checkAB\n",
    "\n",
    "def checkAB(s):\n",
    "    if len(s)==0 :\n",
    "        return 'true'\n",
    "       \n",
    "    if s[0]=='a':\n",
    "        if (len(s[1:]) > 1 and s[1:3] == 'bb'):\n",
    "            return checkAB(s[3:])\n",
    "        else:\n",
    "            return checkAB(s[1:])\n",
    "    else:\n",
    "        return 'false'\n",
    "        \n",
    "s = input()\n",
    "print(checkAB(s))"
   ]
  },
  {
   "cell_type": "code",
   "execution_count": 9,
   "id": "8a1f6a6e",
   "metadata": {},
   "outputs": [
    {
     "name": "stdout",
     "output_type": "stream",
     "text": [
      "5\n",
      "13\n"
     ]
    }
   ],
   "source": [
    "#staircase\n",
    "\n",
    "def staircase(n):\n",
    "    if n==0 :\n",
    "        return 1\n",
    "    \n",
    "    elif n<0:\n",
    "        return 0\n",
    "    \n",
    "    return staircase(n-1) + staircase(n-2) + staircase(n-3)\n",
    "\n",
    "n = int(input())\n",
    "print(staircase(n))"
   ]
  }
 ],
 "metadata": {
  "kernelspec": {
   "display_name": "Python 3 (ipykernel)",
   "language": "python",
   "name": "python3"
  },
  "language_info": {
   "codemirror_mode": {
    "name": "ipython",
    "version": 3
   },
   "file_extension": ".py",
   "mimetype": "text/x-python",
   "name": "python",
   "nbconvert_exporter": "python",
   "pygments_lexer": "ipython3",
   "version": "3.9.12"
  }
 },
 "nbformat": 4,
 "nbformat_minor": 5
}
